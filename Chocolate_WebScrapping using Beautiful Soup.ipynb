{
 "cells": [
  {
   "cell_type": "markdown",
   "metadata": {},
   "source": [
    "# Chocolate Scraping with Beautiful Soup"
   ]
  },
  {
   "cell_type": "markdown",
   "metadata": {},
   "source": [
    "This is a project about how to scrape data from a given website. This project will use pyplot, numpy, pandas, request and BeautifulSoup libraries.\n",
    "The website has over 1700 reviews of chocolate bars from all around the world and was provided by Codecademy: https://s3.amazonaws.com/codecademy-content/courses/beautifulsoup/cacao/index.html\n"
   ]
  },
  {
   "cell_type": "markdown",
   "metadata": {},
   "source": [
    "## Scope\n",
    "1) Scrape data from the given website and make a Dataframe.\n",
    "\n",
    "2) Make a histogram of ratings. What seems to be the rating that occurs the most? \n",
    "\n",
    "3) What are the best 10 companies of the Dataset based on his ratings?\n",
    "\n",
    "4) What is the relationship between the percentage of cacao used vs Ratings?\n",
    "\n",
    "5) Where are the best cocoa beans grown?\n",
    "\n",
    "6) Which countries produce the highest-rated bars?"
   ]
  },
  {
   "cell_type": "markdown",
   "metadata": {},
   "source": [
    "### Importing necessary libraries."
   ]
  },
  {
   "cell_type": "code",
   "execution_count": 1,
   "metadata": {},
   "outputs": [],
   "source": [
    "import matplotlib.pyplot as plt\n",
    "import numpy as np\n",
    "import pandas as pd\n",
    "import requests\n",
    "from bs4 import BeautifulSoup"
   ]
  },
  {
   "cell_type": "markdown",
   "metadata": {},
   "source": [
    "## 1) Scrape data from the given website and make a Dataframe."
   ]
  },
  {
   "cell_type": "markdown",
   "metadata": {},
   "source": [
    "#### Making a request to the website and creating a BeautifulSoup Object"
   ]
  },
  {
   "cell_type": "code",
   "execution_count": 2,
   "metadata": {},
   "outputs": [],
   "source": [
    "url = requests.get(\"https://s3.amazonaws.com/codecademy-content/courses/beautifulsoup/cacao/index.html\")\n",
    "soup = BeautifulSoup(url.content, \"html.parser\")\n",
    "#print(soup)"
   ]
  },
  {
   "cell_type": "markdown",
   "metadata": {},
   "source": [
    "#### Making lists of data and creating a global Dataframe."
   ]
  },
  {
   "cell_type": "code",
   "execution_count": 3,
   "metadata": {},
   "outputs": [],
   "source": [
    "#Company Column\n",
    "company_names_tags = soup.find_all(attrs={\"class\": \"Company\"})\n",
    "company = []\n",
    "for name in company_names_tags[1:]:\n",
    "    company.append(name.get_text())\n",
    "    \n",
    "#Origin Column\n",
    "origin_names_tags = soup.find_all(attrs={\"class\": \"Origin\"})\n",
    "origins = []\n",
    "for country in origin_names_tags[1:]:\n",
    "    origins.append(country.get_text())\n",
    "\n",
    "#REF Column\n",
    "ref_tags = soup.find_all(attrs={\"class\": \"REF\"})\n",
    "refs = []\n",
    "for i in ref_tags[1:]:\n",
    "    refs.append(int(i.get_text()))\n",
    "    \n",
    "#ReviewDate Column\n",
    "review_date_tags = soup.find_all(attrs={\"class\": \"ReviewDate\"})\n",
    "review_years = []\n",
    "for year in review_date_tags[1:]:\n",
    "    review_years.append(int(year.get_text()))\n",
    "\n",
    "#CocoaPercent Column\n",
    "cocoa_percent = soup.find_all(attrs={\"class\": \"CocoaPercent\"})\n",
    "cocoa_percent_float = []\n",
    "for percent in cocoa_percent[1:]:\n",
    "    x = percent.get_text()\n",
    "    x = x.strip(\"%\") #This line of code strip the % symbol\n",
    "    cocoa_percent_float.append(float(x))\n",
    "\n",
    "#CompanyLocation Column\n",
    "company_locations_tags = soup.find_all(attrs={\"class\": \"CompanyLocation\"})\n",
    "locations = []\n",
    "for location in company_locations_tags[1:]:\n",
    "    locations.append(location.get_text())\n",
    "    \n",
    "#Rating Column\n",
    "ratings_tags = soup.find_all(attrs={\"class\": \"Rating\"})\n",
    "ratings = []\n",
    "for rating in ratings_tags[1:]:\n",
    "    ratings.append(float(rating.get_text()))\n",
    "\n",
    "#BeanType Column\n",
    "bean_type_tags = soup.find_all(attrs={\"class\": \"BeanType\"})\n",
    "bean_types = []\n",
    "for types in bean_type_tags[1:]:\n",
    "    bean_types.append(types.get_text())\n",
    "\n",
    "#BroadBeanOrigin Column\n",
    "bean_origin_tag = soup.find_all(attrs={\"class\": \"BroadBeanOrigin\"})\n",
    "bean_origins = []\n",
    "for country in bean_origin_tag[1:]:\n",
    "    bean_origins.append(country.get_text())\n",
    "\n",
    "chocolate_df = pd.DataFrame.from_dict(\n",
    "    {\"Company\": company, \n",
    "     \"Origin\": origins, \n",
    "     \"REF\": refs,\n",
    "     \"ReviewDate\": review_years,\n",
    "     \"CocoaPercent\": cocoa_percent_float,\n",
    "     \"CompanyLocation\": locations,\n",
    "     \"Rating\": ratings,\n",
    "     \"BeanType\": bean_types,\n",
    "     \"BroadBeanOrigin\": bean_origins\n",
    "    })\n",
    "\n",
    "#print(chocolate_df.info(), chocolate_df.head())"
   ]
  },
  {
   "cell_type": "markdown",
   "metadata": {},
   "source": [
    "## 2) Make a histogram of ratings. What seems to be the rating that occurs the most? "
   ]
  },
  {
   "cell_type": "code",
   "execution_count": 4,
   "metadata": {
    "scrolled": true
   },
   "outputs": [
    {
     "data": {
      "image/png": "[encoded data removed]",
      "text/plain": [
       "<Figure size 432x288 with 1 Axes>"
      ]
     },
     "metadata": {
      "needs_background": "light"
     },
     "output_type": "display_data"
    }
   ],
   "source": [
    "plt.hist(chocolate_df.Rating.values, range=(1,5), bins=15)\n",
    "plt.title(\"Distribution of Rating\", fontsize = 16)\n",
    "plt.xlabel(\"Ratings are from 1-5\", fontsize = 16)\n",
    "plt.ylabel(\"Count\", fontsize = 16)\n",
    "plt.show()"
   ]
  },
  {
   "cell_type": "markdown",
   "metadata": {},
   "source": [
    "The ratings that seems to be occurring the most are 3 - 3.75"
   ]
  },
  {
   "cell_type": "markdown",
   "metadata": {},
   "source": [
    "## 3) What are the best ten companies of the Dataset based on his ratings?"
   ]
  },
  {
   "cell_type": "code",
   "execution_count": 10,
   "metadata": {},
   "outputs": [
    {
     "name": "stdout",
     "output_type": "stream",
     "text": [
      "Company\n",
      "A. Morin                  3.380435\n",
      "AMMA                      3.500000\n",
      "Acalli                    3.750000\n",
      "Adi                       3.250000\n",
      "Aequare (Gianduja)        2.875000\n",
      "                            ...   \n",
      "hello cocoa               3.125000\n",
      "hexx                      3.050000\n",
      "iQ Chocolate              2.875000\n",
      "organicfair               2.850000\n",
      "twenty-four blackbirds    3.041667\n",
      "Name: Rating, Length: 416, dtype: float64\n",
      "                                Company    Rating\n",
      "0                Tobago Estate (Pralus)  4.000000\n",
      "1  Heirloom Cacao Preservation (Zokoko)  3.875000\n",
      "2                                Ocelot  3.875000\n",
      "3                                Amedei  3.846154\n",
      "4                                Matale  3.812500\n",
      "5                                Patric  3.791667\n",
      "6                     Idilio (Felchlin)  3.775000\n",
      "7                                Acalli  3.750000\n",
      "8                            Chocola'te  3.750000\n",
      "9          Christopher Morel (Felchlin)  3.750000\n"
     ]
    }
   ],
   "source": [
    "average_rating_by_company = chocolate_df.groupby(\"Company\").Rating.mean()\n",
    "#print(average_rating_by_company)\n",
    "best_ten = average_rating_by_company.nlargest(10) #nlargest() Return the first n rows ordered by columns in descending order\n",
    "best_ten = best_ten.reset_index()\n",
    "print(best_ten)\n",
    "#print(type(best_ten))"
   ]
  },
  {
   "cell_type": "markdown",
   "metadata": {},
   "source": [
    "## 4) What is the realtionship between the percentage of cacao used vs Ratings?"
   ]
  },
  {
   "cell_type": "markdown",
   "metadata": {},
   "source": [
    "### Making a ScatterPlot of Cacao_Percetage vs Ratings"
   ]
  },
  {
   "cell_type": "code",
   "execution_count": 6,
   "metadata": {},
   "outputs": [
    {
     "data": {
      "image/png": "[encoded data removed]",
      "text/plain": [
       "<Figure size 432x288 with 1 Axes>"
      ]
     },
     "metadata": {
      "needs_background": "light"
     },
     "output_type": "display_data"
    }
   ],
   "source": [
    "plt.clf()\n",
    "plt.scatter(chocolate_df.CocoaPercent, chocolate_df.Rating)\n",
    "plt.title(\"Cacao Used vs Rating\", fontsize = 16)\n",
    "plt.xlabel(\"Percentage % of Cacao Used\", fontsize = 16)\n",
    "plt.ylabel(\"Ratings from 1 to 5\", fontsize = 16)\n",
    "plt.show()"
   ]
  },
  {
   "cell_type": "markdown",
   "metadata": {},
   "source": [
    "It seems that a high percentage of cocoa used does not guarantee a high rating. Using around 60% - 80% of the cocoa, it gives a rating between 2.5 - 4.0 in most cases."
   ]
  },
  {
   "cell_type": "markdown",
   "metadata": {},
   "source": [
    "## 5) Where are the best cocoa beans grown?"
   ]
  },
  {
   "cell_type": "code",
   "execution_count": 7,
   "metadata": {},
   "outputs": [
    {
     "name": "stdout",
     "output_type": "stream",
     "text": [
      "                BroadBeanOrigin  Rating\n",
      "0         Dom. Rep., Madagascar    4.00\n",
      "1   Gre., PNG, Haw., Haiti, Mad    4.00\n",
      "2  Guat., D.R., Peru, Mad., PNG    4.00\n",
      "3                Peru, Dom. Rep    4.00\n",
      "4            Ven, Bolivia, D.R.    4.00\n",
      "5               Venezuela, Java    4.00\n",
      "6             DR, Ecuador, Peru    3.75\n",
      "7          Dominican Rep., Bali    3.75\n",
      "8             PNG, Vanuatu, Mad    3.75\n",
      "9                  Peru, Belize    3.75\n"
     ]
    }
   ],
   "source": [
    "#print(chocolate_df.BroadBeanOrigin.unique())\n",
    "best_cocoa_beans = chocolate_df.groupby(\"BroadBeanOrigin\").Rating.mean()\n",
    "best_ten_cocoa_beans = best_cocoa_beans.nlargest(10) #nlargest() Return the first n rows ordered by columns in descending order\n",
    "best_ten_cocoa_beans = best_ten_cocoa_beans.reset_index()\n",
    "print(best_ten_cocoa_beans)"
   ]
  },
  {
   "cell_type": "markdown",
   "metadata": {},
   "source": [
    "Surprisingly, the top Ratings comes from a mix of cacao from at least two countries and up to 4 countries!"
   ]
  },
  {
   "cell_type": "markdown",
   "metadata": {},
   "source": [
    "### From what Specific Origin or Bar name the best cocoa beans comes from?\n",
    "For this question we can use the Origin column."
   ]
  },
  {
   "cell_type": "code",
   "execution_count": 8,
   "metadata": {},
   "outputs": [
    {
     "name": "stdout",
     "output_type": "stream",
     "text": [
      "                                        Origin    Rating\n",
      "0                                Toscano Black  4.166667\n",
      "1                                  ABOCFA Coop  4.000000\n",
      "2                        Alto Beni, Cru Savage  4.000000\n",
      "3                                       Asante  4.000000\n",
      "4     Bali, Sukrama Bros. Farm, Melaya, 62hr C  4.000000\n",
      "5  Bellavista Coop, #225, LR, MC, CG Exclusive  4.000000\n",
      "6                                      Cabosse  4.000000\n",
      "7       Carenero Superior, Urrutia, Barlovento  4.000000\n",
      "8                          Chuao, #217, DR, MC  4.000000\n",
      "9                      Claudio Corallo w/ nibs  4.000000\n"
     ]
    }
   ],
   "source": [
    "#print(chocolate_df.Origin.unique())\n",
    "best_cocoa_beans_origin = chocolate_df.groupby(\"Origin\").Rating.mean()\n",
    "best_ten_cocoa_beans_origin = best_cocoa_beans_origin.nlargest(10) #nlargest() Return the first n rows ordered by columns in descending order\n",
    "best_ten_cocoa_beans_origin = best_ten_cocoa_beans_origin.reset_index()\n",
    "print(best_ten_cocoa_beans_origin)"
   ]
  },
  {
   "cell_type": "markdown",
   "metadata": {},
   "source": [
    "## 6) Which countries produce the highest-rated bars?"
   ]
  },
  {
   "cell_type": "code",
   "execution_count": 9,
   "metadata": {},
   "outputs": [
    {
     "name": "stdout",
     "output_type": "stream",
     "text": [
      "  CompanyLocation    Rating\n",
      "0           Chile  3.750000\n",
      "1       Amsterdam  3.500000\n",
      "2     Netherlands  3.500000\n",
      "3     Philippines  3.500000\n",
      "4         Iceland  3.416667\n",
      "5         Vietnam  3.409091\n",
      "6          Brazil  3.397059\n",
      "7          Poland  3.375000\n",
      "8       Australia  3.357143\n",
      "9       Guatemala  3.350000\n"
     ]
    }
   ],
   "source": [
    "best_cocoa_country = chocolate_df.groupby(\"CompanyLocation\").Rating.mean()\n",
    "best__ten_cocoa_country = best_cocoa_country.nlargest(10) \n",
    "best__ten_cocoa_country = best__ten_cocoa_country.reset_index()\n",
    "print(best__ten_cocoa_country)"
   ]
  },
  {
   "cell_type": "markdown",
   "metadata": {},
   "source": [
    "The countries that produces the highest-rated bars are Chile, Netherlands and Philippines since those have a rating equal or above 3.5"
   ]
  }
 ],
 "metadata": {
  "kernelspec": {
   "display_name": "Python 3 (ipykernel)",
   "language": "python",
   "name": "python3"
  },
  "language_info": {
   "codemirror_mode": {
    "name": "ipython",
    "version": 3
   },
   "file_extension": ".py",
   "mimetype": "text/x-python",
   "name": "python",
   "nbconvert_exporter": "python",
   "pygments_lexer": "ipython3",
   "version": "3.9.12"
  }
 },
 "nbformat": 4,
 "nbformat_minor": 4
}
